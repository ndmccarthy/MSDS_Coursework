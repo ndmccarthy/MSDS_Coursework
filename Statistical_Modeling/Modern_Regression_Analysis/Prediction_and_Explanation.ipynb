{
 "cells": [
  {
   "cell_type": "markdown",
   "metadata": {
    "deletable": false,
    "editable": false,
    "nbgrader": {
     "cell_type": "markdown",
     "checksum": "bc69d5b2c6ad21d12e7ada6a0a0c0017",
     "grade": false,
     "grade_id": "cell-3fdc984260408b58",
     "locked": true,
     "schema_version": 3,
     "solution": false,
     "task": false
    }
   },
   "source": [
    "# Module 4: Autograded Assignment"
   ]
  },
  {
   "cell_type": "markdown",
   "metadata": {
    "deletable": false,
    "editable": false,
    "nbgrader": {
     "cell_type": "markdown",
     "checksum": "742284107ce2c291edcbeadc3c0f380b",
     "grade": false,
     "grade_id": "cell-e1fc19537fb5fe90",
     "locked": true,
     "schema_version": 3,
     "solution": false,
     "task": false
    }
   },
   "source": [
    "### Outline:\n",
    "**Here are the objectives of this assignment:**\n",
    "\n",
    "1. Review skills in data cleaning and preparation.\n",
    "2. Create training and test sets for model predictions.\n",
    "3. Predict on training and test sets.\n",
    "4. Learn about and visualize Prediction Intervals for linear models.\n",
    "5. Understand some limitations of predictions with linear models.\n",
    "\n",
    "**Here are some general tips:**\n",
    "\n",
    "1. Read the questions carefully to understand what is being asked.\n",
    "2. When you feel that your work is completed, feel free to hit the ```Validate``` button to see your results on the *visible* unit tests. If you have questions about unit testing, please refer to the \"Module 0: Introduction\" notebook provided as an optional resource for this course. In this assignment, there are hidden unit tests that check your code. You will not recieve any feedback for failed hidden unit tests until the assignment is submitted. **Do not misinterpret the feedback from visible unit tests as all possible tests for a given question--write your code carefully!**\n",
    "3. Before submitting, we recommend restarting the kernel and running all the cells in order that they appear to make sure that there are no additional bugs in your code.\n",
    "4. There are 50 points in this assignment."
   ]
  },
  {
   "cell_type": "code",
   "execution_count": 1,
   "metadata": {
    "deletable": false,
    "editable": false,
    "nbgrader": {
     "cell_type": "code",
     "checksum": "2a15daee6a4035e6c75acad9bae08931",
     "grade": false,
     "grade_id": "cell-1560e39fd0ecc054",
     "locked": true,
     "schema_version": 3,
     "solution": false,
     "task": false
    },
    "vscode": {
     "languageId": "r"
    }
   },
   "outputs": [
    {
     "name": "stdout",
     "output_type": "stream",
     "text": [
      "Error in get(genname, envir = envir) : object 'testthat_print' not found\n"
     ]
    },
    {
     "name": "stderr",
     "output_type": "stream",
     "text": [
      "── \u001b[1mAttaching packages\u001b[22m ─────────────────────────────────────── tidyverse 1.3.0 ──\n",
      "\n",
      "\u001b[32m✔\u001b[39m \u001b[34mggplot2\u001b[39m 3.3.0     \u001b[32m✔\u001b[39m \u001b[34mpurrr  \u001b[39m 0.3.4\n",
      "\u001b[32m✔\u001b[39m \u001b[34mtibble \u001b[39m 3.0.1     \u001b[32m✔\u001b[39m \u001b[34mdplyr  \u001b[39m 0.8.5\n",
      "\u001b[32m✔\u001b[39m \u001b[34mtidyr  \u001b[39m 1.0.2     \u001b[32m✔\u001b[39m \u001b[34mstringr\u001b[39m 1.4.0\n",
      "\u001b[32m✔\u001b[39m \u001b[34mreadr  \u001b[39m 1.3.1     \u001b[32m✔\u001b[39m \u001b[34mforcats\u001b[39m 0.5.0\n",
      "\n",
      "── \u001b[1mConflicts\u001b[22m ────────────────────────────────────────── tidyverse_conflicts() ──\n",
      "\u001b[31m✖\u001b[39m \u001b[34mdplyr\u001b[39m::\u001b[32mfilter()\u001b[39m  masks \u001b[34mstats\u001b[39m::filter()\n",
      "\u001b[31m✖\u001b[39m \u001b[34mpurrr\u001b[39m::\u001b[32mis_null()\u001b[39m masks \u001b[34mtestthat\u001b[39m::is_null()\n",
      "\u001b[31m✖\u001b[39m \u001b[34mdplyr\u001b[39m::\u001b[32mlag()\u001b[39m     masks \u001b[34mstats\u001b[39m::lag()\n",
      "\u001b[31m✖\u001b[39m \u001b[34mdplyr\u001b[39m::\u001b[32mmatches()\u001b[39m masks \u001b[34mtidyr\u001b[39m::matches(), \u001b[34mtestthat\u001b[39m::matches()\n",
      "\n",
      "\n",
      "Attaching package: ‘RCurl’\n",
      "\n",
      "\n",
      "The following object is masked from ‘package:tidyr’:\n",
      "\n",
      "    complete\n",
      "\n",
      "\n"
     ]
    }
   ],
   "source": [
    "# This cell loads the necesary libraries for this assignment\n",
    "library(testthat)\n",
    "library(tidyverse)\n",
    "library(RCurl) #a package that includes the function getURL(), which allows for reading data from github.\n",
    "library(ggplot2)"
   ]
  },
  {
   "cell_type": "markdown",
   "metadata": {
    "deletable": false,
    "editable": false,
    "nbgrader": {
     "cell_type": "markdown",
     "checksum": "29ba55ba068ac18febd6f18727834622",
     "grade": false,
     "grade_id": "cell-e9e4bcc9829da442",
     "locked": true,
     "schema_version": 3,
     "solution": false,
     "task": false
    }
   },
   "source": [
    "# Problem 1: Prediction and Octopi (50 points)\n",
    "\n",
    "Brian has just adopted a baby octopus and wants to know how much it will grow as it gets older. Thankfully, researchers at the University of Florida have provided us with data just for this occassion. The researchers were measuring the number of beak increments per octopi age (in days) and weight (in grams), but we can use the same data to see how their weight was affected by their age.\n",
    "\n",
    "One thing worth pointing out is that the original data is sorted from youngest to oldest. Later, we will be splitting the data into a training and test sets. To make sure that we don't introduce some systemic error, such as only looking at the youngest octopi, we should randomize the order of the rows. Now let's load in the data!"
   ]
  },
  {
   "cell_type": "code",
   "execution_count": 2,
   "metadata": {
    "deletable": false,
    "editable": false,
    "nbgrader": {
     "cell_type": "code",
     "checksum": "e2a873ee197bebd8bf3e4cfbaaa6da24",
     "grade": false,
     "grade_id": "cell-25d0b5cda9815086",
     "locked": true,
     "schema_version": 3,
     "solution": false,
     "task": false
    },
    "vscode": {
     "languageId": "r"
    }
   },
   "outputs": [
    {
     "data": {
      "text/html": [
       "<table>\n",
       "<caption>A data.frame: 6 × 4</caption>\n",
       "<thead>\n",
       "\t<tr><th></th><th scope=col>weight</th><th scope=col>age</th><th scope=col>beak_increments</th><th scope=col>beak_measured</th></tr>\n",
       "\t<tr><th></th><th scope=col>&lt;dbl&gt;</th><th scope=col>&lt;int&gt;</th><th scope=col>&lt;int&gt;</th><th scope=col>&lt;int&gt;</th></tr>\n",
       "</thead>\n",
       "<tbody>\n",
       "\t<tr><th scope=row>37</th><td>62.4</td><td>122</td><td>123</td><td>1</td></tr>\n",
       "\t<tr><th scope=row>1</th><td> 7.6</td><td> 63</td><td> 63</td><td>2</td></tr>\n",
       "\t<tr><th scope=row>25</th><td>77.1</td><td>105</td><td>107</td><td>1</td></tr>\n",
       "\t<tr><th scope=row>10</th><td> 4.4</td><td> 63</td><td> 61</td><td>1</td></tr>\n",
       "\t<tr><th scope=row>36</th><td>60.0</td><td>122</td><td>124</td><td>2</td></tr>\n",
       "\t<tr><th scope=row>18</th><td>62.9</td><td> 87</td><td> 87</td><td>2</td></tr>\n",
       "</tbody>\n",
       "</table>\n"
      ],
      "text/latex": [
       "A data.frame: 6 × 4\n",
       "\\begin{tabular}{r|llll}\n",
       "  & weight & age & beak\\_increments & beak\\_measured\\\\\n",
       "  & <dbl> & <int> & <int> & <int>\\\\\n",
       "\\hline\n",
       "\t37 & 62.4 & 122 & 123 & 1\\\\\n",
       "\t1 &  7.6 &  63 &  63 & 2\\\\\n",
       "\t25 & 77.1 & 105 & 107 & 1\\\\\n",
       "\t10 &  4.4 &  63 &  61 & 1\\\\\n",
       "\t36 & 60.0 & 122 & 124 & 2\\\\\n",
       "\t18 & 62.9 &  87 &  87 & 2\\\\\n",
       "\\end{tabular}\n"
      ],
      "text/markdown": [
       "\n",
       "A data.frame: 6 × 4\n",
       "\n",
       "| <!--/--> | weight &lt;dbl&gt; | age &lt;int&gt; | beak_increments &lt;int&gt; | beak_measured &lt;int&gt; |\n",
       "|---|---|---|---|---|\n",
       "| 37 | 62.4 | 122 | 123 | 1 |\n",
       "| 1 |  7.6 |  63 |  63 | 2 |\n",
       "| 25 | 77.1 | 105 | 107 | 1 |\n",
       "| 10 |  4.4 |  63 |  61 | 1 |\n",
       "| 36 | 60.0 | 122 | 124 | 2 |\n",
       "| 18 | 62.9 |  87 |  87 | 2 |\n",
       "\n"
      ],
      "text/plain": [
       "   weight age beak_increments beak_measured\n",
       "37 62.4   122 123             1            \n",
       "1   7.6    63  63             2            \n",
       "25 77.1   105 107             1            \n",
       "10  4.4    63  61             1            \n",
       "36 60.0   122 124             2            \n",
       "18 62.9    87  87             2            "
      ]
     },
     "metadata": {},
     "output_type": "display_data"
    }
   ],
   "source": [
    "# Load in the data\n",
    "octopus.data = read.table(\"octopi.dat\")\n",
    "\n",
    "names(octopus.data) = c(\"weight\", \"age\", \"beak_increments\", \"beak_measured\")\n",
    "\n",
    "# Shuffle the data so it isn't ordered\n",
    "set.seed(42)\n",
    "randomize.rows = sample(nrow(octopus.data))\n",
    "octo.data = octopus.data[randomize.rows, ]\n",
    "head(octo.data)"
   ]
  },
  {
   "cell_type": "markdown",
   "metadata": {
    "deletable": false,
    "editable": false,
    "nbgrader": {
     "cell_type": "markdown",
     "checksum": "9e4f6e79dc94c9cae43ee4bd10f3d76f",
     "grade": false,
     "grade_id": "cell-8263d038e071fcc7",
     "locked": true,
     "schema_version": 3,
     "solution": false,
     "task": false
    }
   },
   "source": [
    "#### 1. (a) Removing Doubles (5 points)\n",
    "\n",
    "You many notice that our data has a variable named `beak_measured`. Like human jaws, each octopus beak has two parts, so the researchers marked down which they were measuring. For our purposes, that means each age and weight measurement will appear twice in the data. The easiest way to correct this is to remove one of each of those measurements.\n",
    "\n",
    "Restrict your data to rows where `beak_measured == 1`. Save the reduced data as `octo.data.reduced`."
   ]
  },
  {
   "cell_type": "code",
   "execution_count": 10,
   "metadata": {
    "deletable": false,
    "nbgrader": {
     "cell_type": "code",
     "checksum": "83167e23a0d494c790dfe1f7bec08f06",
     "grade": false,
     "grade_id": "cell-d11884ec103bca57",
     "locked": false,
     "schema_version": 3,
     "solution": true,
     "task": false
    },
    "vscode": {
     "languageId": "r"
    }
   },
   "outputs": [
    {
     "name": "stdout",
     "output_type": "stream",
     "text": [
      "[1] 19  4\n"
     ]
    }
   ],
   "source": [
    "octo.data.reduced = NA\n",
    "# your code here\n",
    "octo.data.reduced <- octo.data[octo.data['beak_measured'] == 1, ]\n",
    "print(dim(octo.data.reduced))"
   ]
  },
  {
   "cell_type": "code",
   "execution_count": 4,
   "metadata": {
    "deletable": false,
    "editable": false,
    "nbgrader": {
     "cell_type": "code",
     "checksum": "f0d1085c1ef75b03081ae0944147bc9c",
     "grade": true,
     "grade_id": "cell-e2faa0bf4177b6d0",
     "locked": true,
     "points": 5,
     "schema_version": 3,
     "solution": false,
     "task": false
    },
    "vscode": {
     "languageId": "r"
    }
   },
   "outputs": [
    {
     "name": "stdout",
     "output_type": "stream",
     "text": [
      "[1] \"Data is the correct number of rows. \"\n",
      "[1] \"Make sure this is correct, the rest of the questions depend on these data.\"\n"
     ]
    }
   ],
   "source": [
    "# Test Cell\n",
    "if(test_that(\"Size of cleaned data\", {expect_equal(nrow(octo.data.reduced), 19)})){\n",
    "    print(\"Data is the correct number of rows. \")\n",
    "    print(\"Make sure this is correct, the rest of the questions depend on these data.\")\n",
    "}else{\n",
    "    print(\"The reduced data doesn't have the correct number of rows. It should have 19.\")\n",
    "}"
   ]
  },
  {
   "cell_type": "markdown",
   "metadata": {
    "deletable": false,
    "editable": false,
    "nbgrader": {
     "cell_type": "markdown",
     "checksum": "ac541d9109bae8aea386e50b38bc00e2",
     "grade": false,
     "grade_id": "cell-1466d1e08d5b02c4",
     "locked": true,
     "schema_version": 3,
     "solution": false,
     "task": false
    }
   },
   "source": [
    "#### 1. (b) Training and Test Sets (5 points)\n",
    "\n",
    "We have our full dataset, but it is often useful to split that into two smaller datasets, one for training the model and the another for testing it. There are many reasons for this, but the main one is that having a test set allows us to see how the model performs with data that it has never seen before.\n",
    "\n",
    "Split your data into a training and test set and store them in `octo.train` and `octo.test` respectively. The training set should be the first $80\\%$ of the rows (rounded down) and the test set should be the remaining $20\\%$ of the rows. Keep in mind that the code given above has already shuffled the data. "
   ]
  },
  {
   "cell_type": "code",
   "execution_count": 24,
   "metadata": {
    "deletable": false,
    "nbgrader": {
     "cell_type": "code",
     "checksum": "20305f05d6c2bc8169573714d1a6a4d1",
     "grade": false,
     "grade_id": "cell-23ab36ae85e56730",
     "locked": false,
     "schema_version": 3,
     "solution": true,
     "task": false
    },
    "vscode": {
     "languageId": "r"
    }
   },
   "outputs": [
    {
     "name": "stdout",
     "output_type": "stream",
     "text": [
      "[1] 15  4\n",
      "[1] 4 4\n"
     ]
    }
   ],
   "source": [
    "# get training size\n",
    "nrows <- dim(octo.data.reduced)[1]\n",
    "train.size <- floor(nrows * 0.8)\n",
    "\n",
    "# sample an appropriate number of indices from orginal dataset for training\n",
    "indices <- rownames(octo.data.reduced)\n",
    "train.ind <- sample(indices, train.size)\n",
    "\n",
    "# now get indices for test set\n",
    "test.ind <- setdiff(indices, train.ind)\n",
    "\n",
    "# now filter data into train and test sets\n",
    "octo.train <- octo.data.reduced[train.ind, ]\n",
    "octo.test <- octo.data.reduced[test.ind, ]\n",
    "\n",
    "print(dim(octo.train))\n",
    "print(dim(octo.test))"
   ]
  },
  {
   "cell_type": "code",
   "execution_count": 25,
   "metadata": {
    "deletable": false,
    "editable": false,
    "nbgrader": {
     "cell_type": "code",
     "checksum": "bd209c1ae44fad172e5e2de03e6da0c7",
     "grade": true,
     "grade_id": "cell-808a1fd28b361077",
     "locked": true,
     "points": 5,
     "schema_version": 3,
     "solution": false,
     "task": false
    },
    "vscode": {
     "languageId": "r"
    }
   },
   "outputs": [
    {
     "name": "stdout",
     "output_type": "stream",
     "text": [
      "[1] \"The training and test sets are the correct sizes.\"\n",
      "[1] \"Make sure these contain the correct data! All following problems depend on these being correct.\"\n"
     ]
    }
   ],
   "source": [
    "# Test Cell\n",
    "if(test_that(\"Check train and test sets are correct size\", {expect_equal(nrow(octo.train), 15)\n",
    "                                                             expect_equal(nrow(octo.test), 4)})){\n",
    "    print(\"The training and test sets are the correct sizes.\")\n",
    "    print(\"Make sure these contain the correct data! All following problems depend on these being correct.\")\n",
    "}else{\n",
    "    print(\"Incorrect sizes. Make sure you round down for the size of the training set.\")\n",
    "    print(\"Tip: Use the floor() function.\")\n",
    "}"
   ]
  },
  {
   "cell_type": "markdown",
   "metadata": {
    "deletable": false,
    "editable": false,
    "nbgrader": {
     "cell_type": "markdown",
     "checksum": "8c6233fc45bc9a4dce17678a2506043a",
     "grade": false,
     "grade_id": "cell-db7bbfa31419e1e5",
     "locked": true,
     "schema_version": 3,
     "solution": false,
     "task": false
    }
   },
   "source": [
    "#### 1. (c) Predicting on Observed Data (15 points)\n",
    "\n",
    "In order for Brian to know how much his octopus will weigh, we need to fit a linear model to the training data with `weight` as the response and `age` as the predictor. Do this, then compute the predictions (called fitted values) and $95\\%$ Prediction Intervals for the **training** data.\n",
    "\n",
    "Store the predicted (fitted) values in the variable `octo.train.fit`, the lower bounds of the prediction intervals in `octo.train.lower` and the upper bounds in `octo.train.upper`."
   ]
  },
  {
   "cell_type": "code",
   "execution_count": 36,
   "metadata": {
    "deletable": false,
    "nbgrader": {
     "cell_type": "code",
     "checksum": "7eb0a9ce951a35658bae5a2ea17bb762",
     "grade": false,
     "grade_id": "cell-95683baf270821fc",
     "locked": false,
     "schema_version": 3,
     "solution": true,
     "task": false
    },
    "vscode": {
     "languageId": "r"
    }
   },
   "outputs": [],
   "source": [
    "# create linear model\n",
    "octo.lmod <- lm(weight~age, octo.train)\n",
    "\n",
    "# get predicted values and intervals for training data\n",
    "predict.tbl <- predict(octo.lmod, octo.train, interval = \"prediction\", level = 0.95)\n",
    "\n",
    "# assign proper columns to variables\n",
    "octo.train.fit <- predict.tbl[, 1]\n",
    "octo.train.upper <- predict.tbl[, 3]\n",
    "octo.train.lower <- predict.tbl[, 2]"
   ]
  },
  {
   "cell_type": "code",
   "execution_count": 37,
   "metadata": {
    "deletable": false,
    "editable": false,
    "nbgrader": {
     "cell_type": "code",
     "checksum": "cac56bd52de34978c7da5f460706e78c",
     "grade": true,
     "grade_id": "cell-f4138e0dee86524c",
     "locked": true,
     "points": 15,
     "schema_version": 3,
     "solution": false,
     "task": false
    },
    "vscode": {
     "languageId": "r"
    }
   },
   "outputs": [
    {
     "name": "stdout",
     "output_type": "stream",
     "text": [
      "[1] \"Correct number of predictions.\"\n",
      "[1] \"Make sure your Prediction Intervals are for 95%.\"\n"
     ]
    }
   ],
   "source": [
    "# Test Cell\n",
    "if(test_that(\"Testing number of predictions\", {expect_equal(length(octo.train.fit), 15)})){\n",
    "    print(\"Correct number of predictions.\")\n",
    "    print(\"Make sure your Prediction Intervals are for 95%.\")\n",
    "}else{\n",
    "    print(\"Incorrect number of predictions.\")\n",
    "    print(\"Make sure you're predicting on the training set.\")\n",
    "}\n",
    "# This cell has hidden test cases that will run after submission."
   ]
  },
  {
   "cell_type": "markdown",
   "metadata": {
    "deletable": false,
    "editable": false,
    "nbgrader": {
     "cell_type": "markdown",
     "checksum": "13b140a4a7c063b489fc63e3f36122ba",
     "grade": false,
     "grade_id": "cell-f1449b4c3939fc30",
     "locked": true,
     "schema_version": 3,
     "solution": false,
     "task": false
    }
   },
   "source": [
    "#### 1. (d) Predicting on Unobserved Data (15 points)\n",
    "\n",
    "Now compute the predictions and $95\\%$ prediction intervals for the test set. Store the respected values in `octo.test.fit`, `octo.test.lower` and `octo.test.upper`."
   ]
  },
  {
   "cell_type": "code",
   "execution_count": 39,
   "metadata": {
    "deletable": false,
    "nbgrader": {
     "cell_type": "code",
     "checksum": "c9a13e4f753a128b16377845fc29f384",
     "grade": false,
     "grade_id": "cell-fa783b758f0853e0",
     "locked": false,
     "schema_version": 3,
     "solution": true,
     "task": false
    },
    "vscode": {
     "languageId": "r"
    }
   },
   "outputs": [
    {
     "name": "stdout",
     "output_type": "stream",
     "text": [
      "         fit        lwr      upr\n",
      "25 57.034493  27.902806 86.16618\n",
      "4   3.011642 -27.716299 33.73958\n",
      "21 57.034493  27.902806 86.16618\n",
      "19 33.881842   4.758053 63.00563\n"
     ]
    }
   ],
   "source": [
    "# get predictions and intervals for test data\n",
    "test.preds <- predict(octo.lmod, octo.test, interval = \"prediction\", level = 0.95)\n",
    "\n",
    "# assign proper columns\n",
    "octo.test.fit <- test.preds[, 1]\n",
    "octo.test.lower <- test.preds[, 2]\n",
    "octo.test.upper <- test.preds[, 3]\n",
    "\n",
    "# your code here\n",
    "print(test.preds)"
   ]
  },
  {
   "cell_type": "code",
   "execution_count": 40,
   "metadata": {
    "deletable": false,
    "editable": false,
    "nbgrader": {
     "cell_type": "code",
     "checksum": "5a68e75fe7862573aa8f25afd894e515",
     "grade": true,
     "grade_id": "cell-c5da8eb0195b3d73",
     "locked": true,
     "points": 15,
     "schema_version": 3,
     "solution": false,
     "task": false
    },
    "vscode": {
     "languageId": "r"
    }
   },
   "outputs": [],
   "source": [
    "# Test Cell\n",
    "# This cell has hidden test cases that will run after submission."
   ]
  },
  {
   "cell_type": "markdown",
   "metadata": {
    "deletable": false,
    "editable": false,
    "nbgrader": {
     "cell_type": "markdown",
     "checksum": "8114e8fec3ae19836d4e95c05ef03943",
     "grade": false,
     "grade_id": "cell-e7b35e8e2ae8cd10",
     "locked": true,
     "schema_version": 3,
     "solution": false,
     "task": false
    }
   },
   "source": [
    "#### 1. (e) Visualization (5 points)\n",
    "\n",
    "We've calculated our prediction intervals, but that doesn't really help us understand what they are. It can be much more useful to visualize these intervals, to really understand what they mean.\n",
    "\n",
    "Plot a scatterplot of the data, with `age` on the x-axis and `weight` on the y-axis, with correctly labeled axes. Add a straight line to represent the fit our the linear model `octo.lmod` with a band for the confidence interval. Then add dotted lines for the upper and lower bounds of the prediction intervals. Use ggplot and save your final plot as `octo.plot`.\n",
    "\n",
    "A site to help with this can be found [here](https://rpubs.com/Bio-Geek/71339)."
   ]
  },
  {
   "cell_type": "code",
   "execution_count": 44,
   "metadata": {
    "deletable": false,
    "nbgrader": {
     "cell_type": "code",
     "checksum": "b33c467a583aa6a095e3b735ee8fc0e3",
     "grade": false,
     "grade_id": "cell-ecf51ccd0b49a4be",
     "locked": false,
     "schema_version": 3,
     "solution": true,
     "task": false
    },
    "vscode": {
     "languageId": "r"
    }
   },
   "outputs": [
    {
     "name": "stderr",
     "output_type": "stream",
     "text": [
      "`geom_smooth()` using formula 'y ~ x'\n",
      "\n"
     ]
    },
    {
     "data": {
      "image/png": "[encoded data removed]",
      "text/plain": [
       "plot without title"
      ]
     },
     "metadata": {
      "image/png": {
       "height": 420,
       "width": 420
      },
      "text/plain": {
       "height": 420,
       "width": 420
      }
     },
     "output_type": "display_data"
    }
   ],
   "source": [
    "# combine original dataset with prediction intervals\n",
    "all.preds <- predict(octo.lmod, octo.data.reduced, interval = \"prediction\", level = 0.95)\n",
    "octo.full <- merge(octo.data.reduced, all.preds, by.x = 0, by.y = 0) # merge on row names (indices)\n",
    "\n",
    "(octo.plot <- ggplot(data = octo.full, aes(x = age, y = weight)) +\n",
    "                    geom_point() +\n",
    "                    labs(title = \"Octopus Growth\", x = \"Age (days)\", y = \"Weight (grams)\") +\n",
    "                    geom_smooth(method = lm, se = TRUE) +\n",
    "                    geom_line(aes(y = lwr), color = \"red\", linetype = \"dashed\") +\n",
    "                    geom_line(aes(y = upr), color = \"red\", linetype = \"dashed\"))"
   ]
  },
  {
   "cell_type": "code",
   "execution_count": 45,
   "metadata": {
    "deletable": false,
    "editable": false,
    "nbgrader": {
     "cell_type": "code",
     "checksum": "c8a76994768dfd813e7950260b201200",
     "grade": true,
     "grade_id": "cell-6e4dd9c8f7137531",
     "locked": true,
     "points": 5,
     "schema_version": 3,
     "solution": false,
     "task": false
    },
    "vscode": {
     "languageId": "r"
    }
   },
   "outputs": [],
   "source": [
    "# Test Cell\n",
    "# This cell has hidden test cases that will run after submission."
   ]
  },
  {
   "cell_type": "markdown",
   "metadata": {
    "deletable": false,
    "editable": false,
    "nbgrader": {
     "cell_type": "markdown",
     "checksum": "681870b7b0c5989f935a0a6bede79b79",
     "grade": false,
     "grade_id": "cell-06494b06ff86436a",
     "locked": true,
     "schema_version": 3,
     "solution": false,
     "task": false
    }
   },
   "source": [
    "#### 1. (f) How large can an octopus get? (5 points)\n",
    "\n",
    "According to [the internet](https://octolab.tv/mexican-four-eyed-octopus/), an octopus of this type can weigh up to $5$kg and has a maximum lifespan of $2$ years, which we can approximate to $730$ days. According to our model, how much would Brian's octopus weigh if it got that old? Store this value in the `brians.old.octopus.weight`variable.\n",
    "\n",
    "Does this value agrees with the provided weight? Think about potential limitations of our model."
   ]
  },
  {
   "cell_type": "code",
   "execution_count": 48,
   "metadata": {
    "deletable": false,
    "nbgrader": {
     "cell_type": "code",
     "checksum": "9944c521716459890aeb33fb52c26d1c",
     "grade": false,
     "grade_id": "cell-3960a0c0159771a6",
     "locked": false,
     "schema_version": 3,
     "solution": true,
     "task": false
    },
    "vscode": {
     "languageId": "r"
    }
   },
   "outputs": [
    {
     "name": "stdout",
     "output_type": "stream",
     "text": [
      "      1 \n",
      "860.946 \n"
     ]
    }
   ],
   "source": [
    "age = data.frame(age = 730)\n",
    "brians.old.octopus.weight <- predict(octo.lmod, age)\n",
    "\n",
    "# your code here\n",
    "print(brians.old.octopus.weight)"
   ]
  },
  {
   "cell_type": "code",
   "execution_count": 49,
   "metadata": {
    "deletable": false,
    "editable": false,
    "nbgrader": {
     "cell_type": "code",
     "checksum": "25c215cf71e93c7e852b43a03959f6b5",
     "grade": true,
     "grade_id": "cell-5bc0c56c86bb8f25",
     "locked": true,
     "points": 5,
     "schema_version": 3,
     "solution": false,
     "task": false
    },
    "vscode": {
     "languageId": "r"
    }
   },
   "outputs": [],
   "source": [
    "# Test Cell\n",
    "# This cell has hidden test cases that will run after submission."
   ]
  },
  {
   "cell_type": "code",
   "execution_count": null,
   "metadata": {
    "vscode": {
     "languageId": "r"
    }
   },
   "outputs": [],
   "source": []
  }
 ],
 "metadata": {
  "kernelspec": {
   "display_name": "R",
   "language": "R",
   "name": "ir"
  },
  "language_info": {
   "codemirror_mode": "r",
   "file_extension": ".r",
   "mimetype": "text/x-r-source",
   "name": "R",
   "pygments_lexer": "r",
   "version": "3.6.3"
  }
 },
 "nbformat": 4,
 "nbformat_minor": 4
}
